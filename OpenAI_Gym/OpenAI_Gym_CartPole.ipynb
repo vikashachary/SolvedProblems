{
 "cells": [
  {
   "cell_type": "code",
   "execution_count": 1,
   "metadata": {},
   "outputs": [
    {
     "name": "stdout",
     "output_type": "stream",
     "text": [
      "Collecting gym\n",
      "  Downloading https://files.pythonhosted.org/packages/b3/99/7cc3e510678119cdac91f33fb9235b98448f09a6bdf0cafea2b108d9ce51/gym-0.17.2.tar.gz (1.6MB)\n",
      "Requirement already satisfied: scipy in d:\\programdata\\anaconda3\\envs\\tensorflowgpu\\lib\\site-packages (from gym) (1.4.1)\n",
      "Requirement already satisfied: numpy>=1.10.4 in d:\\programdata\\anaconda3\\envs\\tensorflowgpu\\lib\\site-packages (from gym) (1.16.5)\n",
      "Collecting pyglet<=1.5.0,>=1.4.0 (from gym)\n",
      "  Using cached https://files.pythonhosted.org/packages/70/ca/20aee170afe6011e295e34b27ad7d7ccd795faba581dd3c6f7cec237f561/pyglet-1.5.0-py2.py3-none-any.whl\n",
      "Requirement already satisfied: cloudpickle<1.4.0,>=1.2.0 in d:\\programdata\\anaconda3\\envs\\tensorflowgpu\\lib\\site-packages (from gym) (1.2.2)\n",
      "Requirement already satisfied: future in d:\\programdata\\anaconda3\\envs\\tensorflowgpu\\lib\\site-packages (from pyglet<=1.5.0,>=1.4.0->gym) (0.18.2)\n",
      "Building wheels for collected packages: gym\n",
      "  Building wheel for gym (setup.py): started\n",
      "  Building wheel for gym (setup.py): finished with status 'done'\n",
      "  Created wheel for gym: filename=gym-0.17.2-cp37-none-any.whl size=1650898 sha256=dc2cb86af8476fa11f1930e957cd9d7abca01a04285fa3dcaa42343f540444b2\n",
      "  Stored in directory: C:\\Users\\vikash\\AppData\\Local\\pip\\Cache\\wheels\\87\\e0\\91\\f56e44e8062f8cd549673da49f59e1d4fe8b17398119b1d221\n",
      "Successfully built gym\n",
      "Installing collected packages: pyglet, gym\n",
      "Successfully installed gym-0.17.2 pyglet-1.5.0\n"
     ]
    }
   ],
   "source": [
    "# !pip install gym"
   ]
  },
  {
   "cell_type": "code",
   "execution_count": 2,
   "metadata": {},
   "outputs": [],
   "source": [
    "import gym\n",
    "import random\n",
    "import numpy as np\n",
    "import matplotlib.pyplot as plt\n",
    "%matplotlib inline\n",
    "from IPython import display"
   ]
  },
  {
   "cell_type": "code",
   "execution_count": 3,
   "metadata": {},
   "outputs": [
    {
     "name": "stdout",
     "output_type": "stream",
     "text": [
      "Box(4,)\n",
      "Discrete(2)\n"
     ]
    }
   ],
   "source": [
    "# from pyvirtualdisplay import Display\n",
    "# display = Display(visible=0, size=(400, 300))\n",
    "# display.start()\n",
    "env_name = \"CartPole-v1\"\n",
    "env = gym.make(env_name)\n",
    "print(env.observation_space)\n",
    "print(env.action_space)"
   ]
  },
  {
   "cell_type": "code",
   "execution_count": 4,
   "metadata": {},
   "outputs": [],
   "source": [
    "def show_state(env, step=0, info=\"\"):\n",
    "    plt.figure(3)\n",
    "    plt.clf()\n",
    "    plt.imshow(env.render(mode='rgb_array'))\n",
    "    plt.title(\"%s | Step: %d %s\" % (env._spec.id,step, info))\n",
    "    plt.axis('off')\n",
    "\n",
    "    display.clear_output(wait=True)\n",
    "    display.display(plt.gcf())"
   ]
  },
  {
   "cell_type": "code",
   "execution_count": 15,
   "metadata": {},
   "outputs": [],
   "source": [
    "class AgentVikash():\n",
    "    def __init__(self,env):\n",
    "        self.env_actions_size = env.action_space.n\n",
    "    def get_action(self, state):\n",
    "        pole_angle = state[2]\n",
    "        #action = random.choice(range(self.env_actions_size))\n",
    "        action = 0 if pole_angle < 0 else 1\n",
    "        return action\n",
    "        "
   ]
  },
  {
   "cell_type": "code",
   "execution_count": 17,
   "metadata": {},
   "outputs": [
    {
     "name": "stdout",
     "output_type": "stream",
     "text": [
      "Episode finished after 58 timesteps total_reward 58.0\n"
     ]
    },
    {
     "data": {
      "image/png": "[encoded data removed]",
      "text/plain": [
       "<Figure size 432x288 with 1 Axes>"
      ]
     },
     "metadata": {
      "needs_background": "light"
     },
     "output_type": "display_data"
    }
   ],
   "source": [
    "ag = AgentVikash(env)\n",
    "state = env.reset()\n",
    "# env.monitor.start('cartpole-experiment-1', force=True)\n",
    "total_reward = 0\n",
    "img = plt.imshow(env.render(mode='rgb_array')) # only call this once\n",
    "for s in range(2000):\n",
    "    #action = env.action_space.sample()\n",
    "    action = ag.get_action(state)\n",
    "    state, reward, done, info = env.step(action)\n",
    "    img.set_data(env.render(mode='rgb_array')) # just update the data\n",
    "    display.display(plt.gcf())\n",
    "    display.clear_output(wait=True)\n",
    "    total_reward += reward\n",
    "    #show_state(env,s)\n",
    "    if done:\n",
    "        print(\"Episode finished after {} timesteps total_reward {}\".format(s+1, total_reward))\n",
    "        break\n",
    "# env.monitor.close()\n",
    "\n",
    "env.close()"
   ]
  },
  {
   "cell_type": "code",
   "execution_count": 8,
   "metadata": {},
   "outputs": [],
   "source": []
  },
  {
   "cell_type": "code",
   "execution_count": null,
   "metadata": {},
   "outputs": [],
   "source": []
  }
 ],
 "metadata": {
  "kernelspec": {
   "display_name": "Python 3",
   "language": "python",
   "name": "python3"
  },
  "language_info": {
   "codemirror_mode": {
    "name": "ipython",
    "version": 3
   },
   "file_extension": ".py",
   "mimetype": "text/x-python",
   "name": "python",
   "nbconvert_exporter": "python",
   "pygments_lexer": "ipython3",
   "version": "3.7.4"
  }
 },
 "nbformat": 4,
 "nbformat_minor": 2
}
